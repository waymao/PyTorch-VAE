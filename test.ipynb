{
 "cells": [
  {
   "cell_type": "code",
   "execution_count": 1,
   "metadata": {},
   "outputs": [],
   "source": [
    "%load_ext autoreload\n",
    "%autoreload 2"
   ]
  },
  {
   "cell_type": "code",
   "execution_count": 2,
   "metadata": {},
   "outputs": [
    {
     "name": "stderr",
     "output_type": "stream",
     "text": [
      "c:\\Users\\flama\\anaconda3\\envs\\bdl\\lib\\site-packages\\tqdm\\auto.py:22: TqdmWarning: IProgress not found. Please update jupyter and ipywidgets. See https://ipywidgets.readthedocs.io/en/stable/user_install.html\n",
      "  from .autonotebook import tqdm as notebook_tqdm\n"
     ]
    },
    {
     "name": "stdout",
     "output_type": "stream",
     "text": [
      "attribute file loaded\n",
      "model loaded\n"
     ]
    }
   ],
   "source": [
    "from test import load_attr, show_latent, load_model\n",
    "attr_dir = 'Data/celeba'\n",
    "tmp = load_attr(attr_dir)\n",
    "\n",
    "version = 1\n",
    "model_dir = f'logs/CelebA/VanillaVAE/version_{version}'\n",
    "model = load_model(model_dir)"
   ]
  },
  {
   "cell_type": "code",
   "execution_count": 3,
   "metadata": {},
   "outputs": [
    {
     "data": {
      "text/plain": [
       "Index(['5_o_Clock_Shadow', 'Arched_Eyebrows', 'Attractive', 'Bags_Under_Eyes',\n",
       "       'Bald', 'Bangs', 'Big_Lips', 'Big_Nose', 'Black_Hair', 'Blond_Hair',\n",
       "       'Blurry', 'Brown_Hair', 'Bushy_Eyebrows', 'Chubby', 'Double_Chin',\n",
       "       'Eyeglasses', 'Goatee', 'Gray_Hair', 'Heavy_Makeup', 'High_Cheekbones',\n",
       "       'Male', 'Mouth_Slightly_Open', 'Mustache', 'Narrow_Eyes', 'No_Beard',\n",
       "       'Oval_Face', 'Pale_Skin', 'Pointy_Nose', 'Receding_Hairline',\n",
       "       'Rosy_Cheeks', 'Sideburns', 'Smiling', 'Straight_Hair', 'Wavy_Hair',\n",
       "       'Wearing_Earrings', 'Wearing_Hat', 'Wearing_Lipstick',\n",
       "       'Wearing_Necklace', 'Wearing_Necktie', 'Young'],\n",
       "      dtype='object')"
      ]
     },
     "execution_count": 3,
     "metadata": {},
     "output_type": "execute_result"
    }
   ],
   "source": [
    "tmp.columns"
   ]
  },
  {
   "cell_type": "code",
   "execution_count": 4,
   "metadata": {},
   "outputs": [],
   "source": [
    "sampled = tmp.sample(200, random_state=152)\n",
    "file_name = list(sampled.index)\n"
   ]
  },
  {
   "cell_type": "code",
   "execution_count": 5,
   "metadata": {},
   "outputs": [
    {
     "name": "stdout",
     "output_type": "stream",
     "text": [
      "torch.Size([200, 3, 64, 64])\n"
     ]
    },
    {
     "data": {
      "text/plain": [
       "tensor([[ 1.5757,  1.7531,  0.5376,  ..., -0.5116,  1.3915,  1.8310],\n",
       "        [ 1.6194,  0.7338,  0.6338,  ...,  0.4628,  0.8087,  1.4433],\n",
       "        [ 1.0038, -1.0314, -0.0058,  ..., -0.3191,  0.9309, -1.2762],\n",
       "        ...,\n",
       "        [ 1.2984, -1.5882,  0.5405,  ..., -0.9692,  0.6804, -0.7620],\n",
       "        [ 0.3345,  0.0302, -1.3043,  ..., -0.5886,  0.0154, -0.3156],\n",
       "        [ 1.6382, -0.4145, -1.5267,  ..., -0.6698, -0.5331,  1.6057]],\n",
       "       grad_fn=<AddmmBackward0>)"
      ]
     },
     "execution_count": 5,
     "metadata": {},
     "output_type": "execute_result"
    }
   ],
   "source": [
    "from test import show_latent\n",
    "show_latent(file_name, model)"
   ]
  },
  {
   "cell_type": "code",
   "execution_count": 6,
   "metadata": {},
   "outputs": [
    {
     "name": "stdout",
     "output_type": "stream",
     "text": [
      "torch.Size([200, 3, 64, 64])\n"
     ]
    }
   ],
   "source": [
    "a = show_latent(file_name, model)"
   ]
  },
  {
   "cell_type": "code",
   "execution_count": 7,
   "metadata": {},
   "outputs": [
    {
     "data": {
      "text/plain": [
       "tensor([ 1.5757,  1.7531,  0.5376,  0.1152,  2.3520,  1.5629, -0.0079,  0.5112,\n",
       "         0.4629,  0.1100, -1.2984,  1.9471,  0.4448, -0.5116,  1.3915,  1.8310],\n",
       "       grad_fn=<SelectBackward0>)"
      ]
     },
     "execution_count": 7,
     "metadata": {},
     "output_type": "execute_result"
    }
   ],
   "source": [
    "a[0]"
   ]
  },
  {
   "cell_type": "code",
   "execution_count": 11,
   "metadata": {},
   "outputs": [
    {
     "data": {
      "text/plain": [
       "123"
      ]
     },
     "execution_count": 11,
     "metadata": {},
     "output_type": "execute_result"
    }
   ],
   "source": [
    "123"
   ]
  },
  {
   "cell_type": "code",
   "execution_count": null,
   "metadata": {},
   "outputs": [],
   "source": []
  },
  {
   "attachments": {},
   "cell_type": "markdown",
   "metadata": {},
   "source": []
  },
  {
   "cell_type": "code",
   "execution_count": 8,
   "metadata": {},
   "outputs": [],
   "source": [
    "import pandas as pd \n",
    "import numpy as np\n",
    "from matplotlib import pyplot as plt"
   ]
  },
  {
   "cell_type": "code",
   "execution_count": 9,
   "metadata": {},
   "outputs": [
    {
     "data": {
      "image/png": "[encoded data removed]",
      "text/plain": [
       "<Figure size 500x500 with 1 Axes>"
      ]
     },
     "metadata": {},
     "output_type": "display_data"
    }
   ],
   "source": [
    "def visualize_latent(latent: list, attr: pd.DataFrame):\n",
    "    '''\n",
    "    given a list of latent vectors and the attribute file, \n",
    "    visualize the latent vectors with respect to attributes\n",
    "\n",
    "    Parameters\n",
    "        latent: list of latent vectors\n",
    "        attr: attribute file\n",
    "\n",
    "    Returns\n",
    "        None\n",
    "    '''\n",
    "    # generate dummy data\n",
    "    latent = np.random.randn(200, 128)\n",
    "     \n",
    "    # visualize the latent vectors with respect to attributes\n",
    "    # draw scatter plots\n",
    "    c = \n",
    "    plt.figure(figsize=(5, 5))\n",
    "    plt.scatter(latent[:, 0], latent[:, 1], c=)\n",
    "    plt.show()\n",
    "\n",
    "    pass\n",
    "\n",
    "visualize_latent([], sampled)\n"
   ]
  },
  {
   "cell_type": "code",
   "execution_count": 10,
   "metadata": {},
   "outputs": [
    {
     "data": {
      "text/plain": [
       "{'5_o_Clock_Shadow': array([-1,  1], dtype=int64),\n",
       " 'Arched_Eyebrows': array([-1,  1], dtype=int64),\n",
       " 'Attractive': array([ 1, -1], dtype=int64),\n",
       " 'Bags_Under_Eyes': array([-1,  1], dtype=int64),\n",
       " 'Bald': array([-1,  1], dtype=int64),\n",
       " 'Bangs': array([ 1, -1], dtype=int64),\n",
       " 'Big_Lips': array([-1,  1], dtype=int64),\n",
       " 'Big_Nose': array([-1,  1], dtype=int64),\n",
       " 'Black_Hair': array([ 1, -1], dtype=int64),\n",
       " 'Blond_Hair': array([-1,  1], dtype=int64),\n",
       " 'Blurry': array([-1,  1], dtype=int64),\n",
       " 'Brown_Hair': array([-1,  1], dtype=int64),\n",
       " 'Bushy_Eyebrows': array([-1,  1], dtype=int64),\n",
       " 'Chubby': array([-1,  1], dtype=int64),\n",
       " 'Double_Chin': array([-1,  1], dtype=int64),\n",
       " 'Eyeglasses': array([-1,  1], dtype=int64),\n",
       " 'Goatee': array([-1,  1], dtype=int64),\n",
       " 'Gray_Hair': array([-1,  1], dtype=int64),\n",
       " 'Heavy_Makeup': array([ 1, -1], dtype=int64),\n",
       " 'High_Cheekbones': array([-1,  1], dtype=int64),\n",
       " 'Male': array([-1,  1], dtype=int64),\n",
       " 'Mouth_Slightly_Open': array([-1,  1], dtype=int64),\n",
       " 'Mustache': array([-1,  1], dtype=int64),\n",
       " 'Narrow_Eyes': array([-1,  1], dtype=int64),\n",
       " 'No_Beard': array([ 1, -1], dtype=int64),\n",
       " 'Oval_Face': array([ 1, -1], dtype=int64),\n",
       " 'Pale_Skin': array([ 1, -1], dtype=int64),\n",
       " 'Pointy_Nose': array([-1,  1], dtype=int64),\n",
       " 'Receding_Hairline': array([-1,  1], dtype=int64),\n",
       " 'Rosy_Cheeks': array([-1,  1], dtype=int64),\n",
       " 'Sideburns': array([-1,  1], dtype=int64),\n",
       " 'Smiling': array([ 1, -1], dtype=int64),\n",
       " 'Straight_Hair': array([-1,  1], dtype=int64),\n",
       " 'Wavy_Hair': array([-1,  1], dtype=int64),\n",
       " 'Wearing_Earrings': array([ 1, -1], dtype=int64),\n",
       " 'Wearing_Hat': array([-1,  1], dtype=int64),\n",
       " 'Wearing_Lipstick': array([ 1, -1], dtype=int64),\n",
       " 'Wearing_Necklace': array([-1,  1], dtype=int64),\n",
       " 'Wearing_Necktie': array([-1,  1], dtype=int64),\n",
       " 'Young': array([ 1, -1], dtype=int64)}"
      ]
     },
     "execution_count": 10,
     "metadata": {},
     "output_type": "execute_result"
    }
   ],
   "source": [
    "# get unique values of each attribute\n",
    "unique_values = {}\n",
    "for col in sampled.columns:\n",
    "    unique_values[col] = sampled[col].unique()\n",
    "unique_values"
   ]
  }
 ],
 "metadata": {
  "kernelspec": {
   "display_name": "bdl",
   "language": "python",
   "name": "python3"
  },
  "language_info": {
   "codemirror_mode": {
    "name": "ipython",
    "version": 3
   },
   "file_extension": ".py",
   "mimetype": "text/x-python",
   "name": "python",
   "nbconvert_exporter": "python",
   "pygments_lexer": "ipython3",
   "version": "3.8.13"
  },
  "orig_nbformat": 4,
  "vscode": {
   "interpreter": {
    "hash": "cdfd9047f55e0a459e02dfad6751dc15a1c2ca31c85f257759006037be7516f4"
   }
  }
 },
 "nbformat": 4,
 "nbformat_minor": 2
}
