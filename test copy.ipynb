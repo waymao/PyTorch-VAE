{
 "cells": [
  {
   "cell_type": "code",
   "execution_count": 45,
   "metadata": {},
   "outputs": [
    {
     "name": "stdout",
     "output_type": "stream",
     "text": [
      "The autoreload extension is already loaded. To reload it, use:\n",
      "  %reload_ext autoreload\n"
     ]
    }
   ],
   "source": [
    "%load_ext autoreload\n",
    "%autoreload 2"
   ]
  },
  {
   "cell_type": "code",
   "execution_count": 46,
   "metadata": {},
   "outputs": [],
   "source": [
    "import numpy as np\n",
    "from matplotlib import pyplot as plt"
   ]
  },
  {
   "cell_type": "code",
   "execution_count": 47,
   "metadata": {},
   "outputs": [
    {
     "name": "stdout",
     "output_type": "stream",
     "text": [
      "attribute file loaded\n",
      "model loaded\n"
     ]
    }
   ],
   "source": [
    "from test import load_attr, show_latent, load_model\n",
    "attr_dir = 'Data/celeba'\n",
    "tmp = load_attr(attr_dir)\n",
    "\n",
    "version = 14\n",
    "model_dir = f'logs/CelebA/BTVAE/version_{version}'\n",
    "model = load_model(model_dir)"
   ]
  },
  {
   "cell_type": "code",
   "execution_count": 48,
   "metadata": {},
   "outputs": [
    {
     "data": {
      "text/plain": [
       "Index(['5_o_Clock_Shadow', 'Arched_Eyebrows', 'Attractive', 'Bags_Under_Eyes',\n",
       "       'Bald', 'Bangs', 'Big_Lips', 'Big_Nose', 'Black_Hair', 'Blond_Hair',\n",
       "       'Blurry', 'Brown_Hair', 'Bushy_Eyebrows', 'Chubby', 'Double_Chin',\n",
       "       'Eyeglasses', 'Goatee', 'Gray_Hair', 'Heavy_Makeup', 'High_Cheekbones',\n",
       "       'Male', 'Mouth_Slightly_Open', 'Mustache', 'Narrow_Eyes', 'No_Beard',\n",
       "       'Oval_Face', 'Pale_Skin', 'Pointy_Nose', 'Receding_Hairline',\n",
       "       'Rosy_Cheeks', 'Sideburns', 'Smiling', 'Straight_Hair', 'Wavy_Hair',\n",
       "       'Wearing_Earrings', 'Wearing_Hat', 'Wearing_Lipstick',\n",
       "       'Wearing_Necklace', 'Wearing_Necktie', 'Young'],\n",
       "      dtype='object')"
      ]
     },
     "execution_count": 48,
     "metadata": {},
     "output_type": "execute_result"
    }
   ],
   "source": [
    "tmp.columns"
   ]
  },
  {
   "cell_type": "code",
   "execution_count": 49,
   "metadata": {},
   "outputs": [],
   "source": [
    "sampled = tmp.sample(200, random_state=152)\n",
    "file_name = list(sampled.index)\n"
   ]
  },
  {
   "cell_type": "code",
   "execution_count": 50,
   "metadata": {},
   "outputs": [
    {
     "name": "stdout",
     "output_type": "stream",
     "text": [
      "torch.Size([200, 3, 64, 64])\n"
     ]
    },
    {
     "data": {
      "text/plain": [
       "tensor([[ 1.6393,  0.5196, -0.3685,  ..., -1.8905, -0.0069, -0.1366],\n",
       "        [ 1.3458, -0.9202, -0.0788,  ..., -1.3504, -0.0918,  0.0352],\n",
       "        [-0.6201, -0.3969, -0.0501,  ..., -0.6558, -0.0066, -0.0239],\n",
       "        ...,\n",
       "        [-0.3125,  0.2131, -0.1088,  ..., -0.3598, -0.0226,  0.0248],\n",
       "        [-1.8590,  0.2541,  0.2120,  ..., -0.1676, -0.0371, -0.0911],\n",
       "        [-0.2076,  0.3426, -0.0697,  ..., -1.8641, -0.0243, -0.2163]],\n",
       "       grad_fn=<AddmmBackward0>)"
      ]
     },
     "execution_count": 50,
     "metadata": {},
     "output_type": "execute_result"
    }
   ],
   "source": [
    "from test import show_latent\n",
    "show_latent(file_name, model)"
   ]
  },
  {
   "cell_type": "code",
   "execution_count": 51,
   "metadata": {},
   "outputs": [
    {
     "name": "stdout",
     "output_type": "stream",
     "text": [
      "torch.Size([200, 3, 64, 64])\n"
     ]
    }
   ],
   "source": [
    "a = show_latent(file_name, model)"
   ]
  },
  {
   "cell_type": "code",
   "execution_count": 52,
   "metadata": {},
   "outputs": [
    {
     "data": {
      "text/plain": [
       "tensor([ 1.6393e+00,  5.1961e-01, -3.6851e-01,  1.3509e-02, -2.0092e-01,\n",
       "         5.7175e-02, -1.7497e-01,  7.9813e-02, -1.5857e-02, -1.4434e-02,\n",
       "         1.6013e-01, -5.3777e-01,  4.2242e-02, -9.0998e-02, -5.6267e-02,\n",
       "         4.1103e-02,  4.9690e-02, -1.2663e-01, -5.5583e-02, -3.0705e-02,\n",
       "        -1.2581e-01,  4.1676e-01,  3.0618e-01,  1.4505e-01, -5.0755e-03,\n",
       "        -4.8747e-02,  7.4917e-02,  1.5507e-02,  2.7113e-01, -1.7647e-01,\n",
       "         1.3873e-01,  1.0686e-01,  7.9736e-02,  4.8347e-03, -1.0641e-01,\n",
       "        -6.0450e-02,  8.0623e-01, -8.1441e-01,  1.2985e-01, -3.7368e-02,\n",
       "        -3.0081e-01,  5.0834e-02, -6.6442e-02, -8.8488e-02, -5.3270e-02,\n",
       "        -2.3979e-01, -2.7851e-01, -1.7545e-02,  1.2139e-01, -4.4705e-02,\n",
       "         1.8535e-02,  6.8442e-01, -5.6150e-02, -3.8846e-02, -1.3684e-02,\n",
       "         6.8991e-02, -1.5327e-01,  5.1714e-03,  1.1026e+00, -1.1992e-01,\n",
       "         4.9085e-02, -7.5522e-01, -1.0414e-01,  1.4972e+00, -9.7205e-02,\n",
       "        -1.4429e+00, -2.4534e-03,  1.4335e+00, -7.0372e-02,  5.4592e-02,\n",
       "         1.4087e-02, -1.2476e-01,  2.8758e-01, -1.3380e-01,  6.0667e-01,\n",
       "        -1.1352e-01, -1.3415e-01, -2.5113e-01, -4.6365e-01,  3.9451e-02,\n",
       "         3.2734e-02,  7.4303e-02, -1.7570e-01, -3.7404e-02, -8.8249e-01,\n",
       "         7.1724e-03,  1.9406e-01, -1.0734e+00, -1.5296e-01, -7.9561e-02,\n",
       "         7.6016e-02, -9.2299e-03, -1.4513e-04,  1.0899e+00, -3.4848e-02,\n",
       "        -9.4688e-02, -2.5217e-02, -1.1389e-01, -8.7732e-02, -1.1957e-01,\n",
       "         7.5736e-04,  2.0663e+00,  7.9168e-02, -4.2728e-02,  3.7357e-02,\n",
       "         1.1428e-02, -4.3249e-02,  5.2816e-03, -1.6254e-01,  4.0223e-02,\n",
       "         9.0124e-01,  1.2572e-01, -2.0431e-02,  1.2502e-01, -1.7484e-02,\n",
       "        -1.1816e-02, -1.0469e-01,  2.6427e-02, -8.5395e-03,  1.0933e-01,\n",
       "        -1.6726e-01, -4.7949e-01, -6.0396e-02, -1.8540e-01, -1.4520e-01,\n",
       "        -1.8905e+00, -6.9263e-03, -1.3661e-01], grad_fn=<SelectBackward0>)"
      ]
     },
     "execution_count": 52,
     "metadata": {},
     "output_type": "execute_result"
    }
   ],
   "source": [
    "a[0]"
   ]
  },
  {
   "cell_type": "code",
   "execution_count": 53,
   "metadata": {},
   "outputs": [],
   "source": [
    "a_numpy = a.detach().cpu().numpy()"
   ]
  },
  {
   "cell_type": "code",
   "execution_count": 54,
   "metadata": {},
   "outputs": [
    {
     "data": {
      "text/plain": [
       "(200, 128)"
      ]
     },
     "execution_count": 54,
     "metadata": {},
     "output_type": "execute_result"
    }
   ],
   "source": [
    "a_numpy.shape"
   ]
  },
  {
   "cell_type": "code",
   "execution_count": 55,
   "metadata": {},
   "outputs": [],
   "source": [
    "a_standardized = (a_numpy - np.mean(a_numpy, axis=0)) / np.std(a_numpy, axis=0)\n",
    "sampled_labels = sampled.to_numpy()\n",
    "sampled_labels_std = (sampled_labels - np.mean(sampled_labels, axis=0)) / np.std(sampled_labels, axis=0)"
   ]
  },
  {
   "cell_type": "code",
   "execution_count": 56,
   "metadata": {},
   "outputs": [
    {
     "data": {
      "text/plain": [
       "array([[ 1.6390476 ,  0.50511736, -1.9879607 , ..., -1.9099255 ,\n",
       "         0.4041166 , -1.2412313 ],\n",
       "       [ 1.3568873 , -1.309198  , -0.38127604, ..., -1.3638997 ,\n",
       "        -0.93804866,  0.7804841 ],\n",
       "       [-0.5327053 , -0.64970565, -0.22187397, ..., -0.66165656,\n",
       "         0.40917382,  0.08551656],\n",
       "       ...,\n",
       "       [-0.23704827,  0.11891101, -0.54752314, ..., -0.36239648,\n",
       "         0.15588078,  0.65886784],\n",
       "       [-1.723561  ,  0.17054814,  1.2318083 , ..., -0.16804908,\n",
       "        -0.07314654, -0.7052918 ],\n",
       "       [-0.17480671,  0.9581171 ,  0.84647316, ..., -2.0637822 ,\n",
       "        -0.00391614, -0.0931739 ]], dtype=float32)"
      ]
     },
     "execution_count": 56,
     "metadata": {},
     "output_type": "execute_result"
    }
   ],
   "source": [
    "a_standardized"
   ]
  },
  {
   "cell_type": "code",
   "execution_count": 57,
   "metadata": {},
   "outputs": [
    {
     "data": {
      "text/plain": [
       "array([[ 33.78385233, -18.77005905, -26.44409899, ..., -18.90576634,\n",
       "         18.79794287, -21.34375282],\n",
       "       [ -5.6949756 ,  -1.02435381,  -3.78318081, ...,  -2.84818574,\n",
       "         16.88578579,  36.13905919],\n",
       "       [-19.66963928,  -4.66292437,   9.03567898, ...,   2.9996277 ,\n",
       "        -12.76569964,  -5.77879403],\n",
       "       ...,\n",
       "       [ 54.41747817,  -4.61585804, -10.06644882, ..., -20.09510899,\n",
       "         12.80132928,  11.653421  ],\n",
       "       [-15.22504777,  -5.01892456,   1.92957597, ...,  14.61832714,\n",
       "        -11.80458295,  -6.70614224],\n",
       "       [ 21.92621691,   6.32497909,  13.77904615, ...,   1.75111444,\n",
       "         -2.16990171, -13.73068116]])"
      ]
     },
     "execution_count": 57,
     "metadata": {},
     "output_type": "execute_result"
    }
   ],
   "source": [
    "corr = a_standardized.T @ sampled_labels_std\n",
    "corr"
   ]
  },
  {
   "cell_type": "code",
   "execution_count": 72,
   "metadata": {},
   "outputs": [
    {
     "data": {
      "text/plain": [
       "12.760731830216764"
      ]
     },
     "execution_count": 72,
     "metadata": {},
     "output_type": "execute_result"
    }
   ],
   "source": [
    "np.mean(np.abs(corr))"
   ]
  },
  {
   "cell_type": "code",
   "execution_count": 58,
   "metadata": {},
   "outputs": [
    {
     "data": {
      "image/png": "[encoded data removed]",
      "text/plain": [
       "<Figure size 640x480 with 2 Axes>"
      ]
     },
     "metadata": {},
     "output_type": "display_data"
    }
   ],
   "source": [
    "plt.imshow(corr, cmap='hot', interpolation='nearest')\n",
    "plt.colorbar()\n",
    "plt.show()"
   ]
  },
  {
   "cell_type": "code",
   "execution_count": 70,
   "metadata": {},
   "outputs": [
    {
     "data": {
      "text/plain": [
       "array([[67,  5],\n",
       "       [87, 35]])"
      ]
     },
     "execution_count": 70,
     "metadata": {},
     "output_type": "execute_result"
    }
   ],
   "source": [
    "np.argwhere(corr > 65)"
   ]
  },
  {
   "attachments": {},
   "cell_type": "markdown",
   "metadata": {},
   "source": []
  },
  {
   "cell_type": "code",
   "execution_count": 60,
   "metadata": {},
   "outputs": [],
   "source": [
    "import pandas as pd \n",
    "import numpy as np\n",
    "from matplotlib import pyplot as plt"
   ]
  },
  {
   "cell_type": "code",
   "execution_count": 68,
   "metadata": {},
   "outputs": [
    {
     "data": {
      "image/png": "[encoded data removed]",
      "text/plain": [
       "<Figure size 500x500 with 1 Axes>"
      ]
     },
     "metadata": {},
     "output_type": "display_data"
    }
   ],
   "source": [
    "def visualize_latent(latent: list, attr: pd.DataFrame):\n",
    "    '''\n",
    "    given a list of latent vectors and the attribute file, \n",
    "    visualize the latent vectors with respect to attributes\n",
    "\n",
    "    Parameters\n",
    "        latent: list of latent vectors\n",
    "        attr: attribute file\n",
    "\n",
    "    Returns\n",
    "        None\n",
    "    '''\n",
    "    # generate dummy data\n",
    "    latent = a.detach().cpu().numpy()\n",
    "     \n",
    "    # visualize the latent vectors with respect to attributes\n",
    "    # draw scatter plots\n",
    "    plt.figure(figsize=(5, 5))\n",
    "    plt.scatter(latent[:, 67], sampled_labels[:, 5])\n",
    "    plt.show()\n",
    "\n",
    "    pass\n",
    "\n",
    "visualize_latent([], sampled)\n"
   ]
  },
  {
   "cell_type": "code",
   "execution_count": 62,
   "metadata": {},
   "outputs": [
    {
     "data": {
      "text/plain": [
       "{'5_o_Clock_Shadow': array([-1,  1]),\n",
       " 'Arched_Eyebrows': array([-1,  1]),\n",
       " 'Attractive': array([ 1, -1]),\n",
       " 'Bags_Under_Eyes': array([-1,  1]),\n",
       " 'Bald': array([-1,  1]),\n",
       " 'Bangs': array([ 1, -1]),\n",
       " 'Big_Lips': array([-1,  1]),\n",
       " 'Big_Nose': array([-1,  1]),\n",
       " 'Black_Hair': array([ 1, -1]),\n",
       " 'Blond_Hair': array([-1,  1]),\n",
       " 'Blurry': array([-1,  1]),\n",
       " 'Brown_Hair': array([-1,  1]),\n",
       " 'Bushy_Eyebrows': array([-1,  1]),\n",
       " 'Chubby': array([-1,  1]),\n",
       " 'Double_Chin': array([-1,  1]),\n",
       " 'Eyeglasses': array([-1,  1]),\n",
       " 'Goatee': array([-1,  1]),\n",
       " 'Gray_Hair': array([-1,  1]),\n",
       " 'Heavy_Makeup': array([ 1, -1]),\n",
       " 'High_Cheekbones': array([-1,  1]),\n",
       " 'Male': array([-1,  1]),\n",
       " 'Mouth_Slightly_Open': array([-1,  1]),\n",
       " 'Mustache': array([-1,  1]),\n",
       " 'Narrow_Eyes': array([-1,  1]),\n",
       " 'No_Beard': array([ 1, -1]),\n",
       " 'Oval_Face': array([ 1, -1]),\n",
       " 'Pale_Skin': array([ 1, -1]),\n",
       " 'Pointy_Nose': array([-1,  1]),\n",
       " 'Receding_Hairline': array([-1,  1]),\n",
       " 'Rosy_Cheeks': array([-1,  1]),\n",
       " 'Sideburns': array([-1,  1]),\n",
       " 'Smiling': array([ 1, -1]),\n",
       " 'Straight_Hair': array([-1,  1]),\n",
       " 'Wavy_Hair': array([-1,  1]),\n",
       " 'Wearing_Earrings': array([ 1, -1]),\n",
       " 'Wearing_Hat': array([-1,  1]),\n",
       " 'Wearing_Lipstick': array([ 1, -1]),\n",
       " 'Wearing_Necklace': array([-1,  1]),\n",
       " 'Wearing_Necktie': array([-1,  1]),\n",
       " 'Young': array([ 1, -1])}"
      ]
     },
     "execution_count": 62,
     "metadata": {},
     "output_type": "execute_result"
    }
   ],
   "source": [
    "# get unique values of each attribute\n",
    "unique_values = {}\n",
    "for col in sampled.columns:\n",
    "    unique_values[col] = sampled[col].unique()\n",
    "unique_values"
   ]
  },
  {
   "cell_type": "code",
   "execution_count": null,
   "metadata": {},
   "outputs": [],
   "source": []
  }
 ],
 "metadata": {
  "kernelspec": {
   "display_name": "Python 3.10.8 64-bit",
   "language": "python",
   "name": "python3"
  },
  "language_info": {
   "codemirror_mode": {
    "name": "ipython",
    "version": 3
   },
   "file_extension": ".py",
   "mimetype": "text/x-python",
   "name": "python",
   "nbconvert_exporter": "python",
   "pygments_lexer": "ipython3",
   "version": "3.10.8"
  },
  "orig_nbformat": 4,
  "vscode": {
   "interpreter": {
    "hash": "e7370f93d1d0cde622a1f8e1c04877d8463912d04d973331ad4851f04de6915a"
   }
  }
 },
 "nbformat": 4,
 "nbformat_minor": 2
}
