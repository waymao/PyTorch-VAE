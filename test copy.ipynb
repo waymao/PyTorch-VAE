{
 "cells": [
  {
   "cell_type": "code",
   "execution_count": 2,
   "metadata": {},
   "outputs": [],
   "source": [
    "%load_ext autoreload\n",
    "%autoreload 2"
   ]
  },
  {
   "cell_type": "code",
   "execution_count": 3,
   "metadata": {},
   "outputs": [],
   "source": [
    "import numpy as np\n",
    "from matplotlib import pyplot as plt"
   ]
  },
  {
   "cell_type": "code",
   "execution_count": 19,
   "metadata": {},
   "outputs": [],
   "source": [
    "import torch"
   ]
  },
  {
   "cell_type": "code",
   "execution_count": 4,
   "metadata": {},
   "outputs": [
    {
     "name": "stdout",
     "output_type": "stream",
     "text": [
      "attribute file loaded\n",
      "model loaded\n"
     ]
    }
   ],
   "source": [
    "from test import load_attr, show_latent, load_model\n",
    "attr_dir = 'Data/celeba'\n",
    "tmp = load_attr(attr_dir)\n",
    "\n",
    "version = 14\n",
    "model_dir = f'logs/CelebA/BTVAE/version_{version}'\n",
    "model = load_model(model_dir)"
   ]
  },
  {
   "cell_type": "code",
   "execution_count": 5,
   "metadata": {},
   "outputs": [
    {
     "data": {
      "text/plain": [
       "Index(['5_o_Clock_Shadow', 'Arched_Eyebrows', 'Attractive', 'Bags_Under_Eyes',\n",
       "       'Bald', 'Bangs', 'Big_Lips', 'Big_Nose', 'Black_Hair', 'Blond_Hair',\n",
       "       'Blurry', 'Brown_Hair', 'Bushy_Eyebrows', 'Chubby', 'Double_Chin',\n",
       "       'Eyeglasses', 'Goatee', 'Gray_Hair', 'Heavy_Makeup', 'High_Cheekbones',\n",
       "       'Male', 'Mouth_Slightly_Open', 'Mustache', 'Narrow_Eyes', 'No_Beard',\n",
       "       'Oval_Face', 'Pale_Skin', 'Pointy_Nose', 'Receding_Hairline',\n",
       "       'Rosy_Cheeks', 'Sideburns', 'Smiling', 'Straight_Hair', 'Wavy_Hair',\n",
       "       'Wearing_Earrings', 'Wearing_Hat', 'Wearing_Lipstick',\n",
       "       'Wearing_Necklace', 'Wearing_Necktie', 'Young'],\n",
       "      dtype='object')"
      ]
     },
     "execution_count": 5,
     "metadata": {},
     "output_type": "execute_result"
    }
   ],
   "source": [
    "tmp.columns"
   ]
  },
  {
   "cell_type": "code",
   "execution_count": 6,
   "metadata": {},
   "outputs": [],
   "source": [
    "sampled = tmp.sample(200, random_state=152)\n",
    "file_name = list(sampled.index)\n"
   ]
  },
  {
   "cell_type": "code",
   "execution_count": 7,
   "metadata": {},
   "outputs": [
    {
     "name": "stdout",
     "output_type": "stream",
     "text": [
      "torch.Size([200, 3, 64, 64])\n"
     ]
    },
    {
     "data": {
      "text/plain": [
       "tensor([[-4.7759e-02,  9.7623e-03,  1.2652e-04,  ..., -1.1786e+00,\n",
       "          2.0907e+00,  3.4541e-03],\n",
       "        [ 7.5529e-02,  3.6725e-02,  1.8368e-02,  ..., -1.3745e+00,\n",
       "         -4.4470e-01, -4.6732e-02],\n",
       "        [-1.1171e-01,  5.7697e-02,  4.3678e-02,  ...,  2.5436e-01,\n",
       "         -2.7689e-01, -6.7581e-02],\n",
       "        ...,\n",
       "        [-7.5397e-02, -5.9840e-02, -9.5984e-02,  ..., -1.3209e+00,\n",
       "         -1.9840e+00, -4.9571e-02],\n",
       "        [ 4.4858e-02,  4.0696e-02, -9.6990e-02,  ..., -7.6846e-01,\n",
       "         -1.9224e+00,  2.8615e-02],\n",
       "        [-4.5914e-02,  2.7876e-02, -1.3768e-02,  ..., -3.5493e-01,\n",
       "          7.5777e-01, -5.3125e-02]], grad_fn=<AddmmBackward0>)"
      ]
     },
     "execution_count": 7,
     "metadata": {},
     "output_type": "execute_result"
    }
   ],
   "source": [
    "from test import show_latent\n",
    "show_latent(file_name, model)"
   ]
  },
  {
   "cell_type": "code",
   "execution_count": 8,
   "metadata": {},
   "outputs": [
    {
     "name": "stdout",
     "output_type": "stream",
     "text": [
      "torch.Size([200, 3, 64, 64])\n"
     ]
    }
   ],
   "source": [
    "a = show_latent(file_name, model)"
   ]
  },
  {
   "cell_type": "code",
   "execution_count": 9,
   "metadata": {},
   "outputs": [
    {
     "data": {
      "text/plain": [
       "tensor([-5.4685e-02, -5.6783e-04, -2.9422e-02,  1.1712e-01,  1.8518e-02,\n",
       "         9.4667e-02, -4.8706e-02,  3.7957e-01,  2.0384e-02, -4.7287e-02,\n",
       "         4.3523e-02,  5.0981e-02,  1.2728e-01,  6.3310e-02,  4.1174e-02,\n",
       "         2.9152e-01,  2.8400e-02,  8.5210e-02,  1.9699e-02, -9.8709e-03,\n",
       "        -8.3608e-03, -6.3824e-02,  7.8670e-02,  5.6459e-03,  8.5400e-02,\n",
       "         6.3449e-02,  2.2296e-02, -2.9308e-02,  5.0109e-02,  7.1238e-02,\n",
       "         5.9761e-02, -1.7235e-01, -2.4277e-03,  3.5669e-02,  1.1095e-03,\n",
       "         1.1376e-03,  1.3460e-02,  2.1560e-02, -2.3405e-02, -1.2147e+00,\n",
       "         1.5804e-01,  8.4683e-02,  5.8698e-02,  1.9727e-02,  6.4558e-02,\n",
       "        -3.5529e-03, -3.0646e-02,  7.5313e-02,  3.8699e-02, -2.3045e-02,\n",
       "         1.1407e-01, -9.7724e-02,  4.4596e-02, -5.2539e-02,  9.7473e-02,\n",
       "        -8.4518e-02,  3.4672e-02,  2.0022e-02,  8.6364e-02,  8.6640e-02,\n",
       "        -2.5092e-02,  1.8470e+00,  2.3898e-02, -1.3319e-01,  1.0766e-01,\n",
       "        -2.2671e-02, -3.4621e-02,  2.8421e-02,  7.1368e-02, -3.7635e-02,\n",
       "        -1.8420e-03,  3.4589e-01,  5.6144e-02, -3.0325e-02, -1.0499e-01,\n",
       "        -1.0752e-01, -6.3164e-02, -7.1044e-02, -4.6785e-02, -5.2070e-01,\n",
       "         4.7811e-02,  5.5835e-05,  2.3578e-04, -5.6648e-02, -4.8893e-02,\n",
       "        -4.3930e-02, -9.9722e-02,  3.7544e-03, -2.7405e-02, -1.6249e-02,\n",
       "        -1.1068e-01, -1.5457e-02, -1.8528e+00,  9.2374e-03,  7.9816e-02,\n",
       "        -1.2947e-01, -4.2185e-02, -2.1953e-02,  5.3669e-02,  4.9850e-02,\n",
       "         3.0863e-02,  4.4420e-01,  1.0050e+00,  2.0024e-02, -2.6858e-02,\n",
       "        -2.7959e-02,  4.9590e-02, -3.9438e-02, -1.0850e-02,  1.2555e-02,\n",
       "         7.1077e-03,  1.3152e-01, -8.2822e-02, -1.2120e-01, -7.5587e-02,\n",
       "        -5.7764e-01, -4.3771e-02, -5.0378e-02,  1.9156e+00,  6.2552e-02,\n",
       "         2.1585e-02,  5.9330e-02, -7.5710e-01, -9.0213e-02, -1.6222e-01,\n",
       "        -1.4866e+00,  2.4993e+00, -4.5107e-03], grad_fn=<SelectBackward0>)"
      ]
     },
     "execution_count": 9,
     "metadata": {},
     "output_type": "execute_result"
    }
   ],
   "source": [
    "a[0]"
   ]
  },
  {
   "cell_type": "code",
   "execution_count": null,
   "metadata": {},
   "outputs": [],
   "source": []
  },
  {
   "cell_type": "code",
   "execution_count": 10,
   "metadata": {},
   "outputs": [],
   "source": [
    "a_numpy = a.detach().cpu().numpy()"
   ]
  },
  {
   "cell_type": "code",
   "execution_count": 11,
   "metadata": {},
   "outputs": [
    {
     "data": {
      "text/plain": [
       "(200, 128)"
      ]
     },
     "execution_count": 11,
     "metadata": {},
     "output_type": "execute_result"
    }
   ],
   "source": [
    "a_numpy.shape"
   ]
  },
  {
   "cell_type": "code",
   "execution_count": 17,
   "metadata": {},
   "outputs": [
    {
     "data": {
      "text/html": [
       "<div>\n",
       "<style scoped>\n",
       "    .dataframe tbody tr th:only-of-type {\n",
       "        vertical-align: middle;\n",
       "    }\n",
       "\n",
       "    .dataframe tbody tr th {\n",
       "        vertical-align: top;\n",
       "    }\n",
       "\n",
       "    .dataframe thead th {\n",
       "        text-align: right;\n",
       "    }\n",
       "</style>\n",
       "<table border=\"1\" class=\"dataframe\">\n",
       "  <thead>\n",
       "    <tr style=\"text-align: right;\">\n",
       "      <th></th>\n",
       "      <th>0</th>\n",
       "      <th>1</th>\n",
       "      <th>2</th>\n",
       "      <th>3</th>\n",
       "      <th>4</th>\n",
       "      <th>5</th>\n",
       "      <th>6</th>\n",
       "      <th>7</th>\n",
       "      <th>8</th>\n",
       "      <th>9</th>\n",
       "      <th>...</th>\n",
       "      <th>118</th>\n",
       "      <th>119</th>\n",
       "      <th>120</th>\n",
       "      <th>121</th>\n",
       "      <th>122</th>\n",
       "      <th>123</th>\n",
       "      <th>124</th>\n",
       "      <th>125</th>\n",
       "      <th>126</th>\n",
       "      <th>127</th>\n",
       "    </tr>\n",
       "  </thead>\n",
       "  <tbody>\n",
       "    <tr>\n",
       "      <th>count</th>\n",
       "      <td>200.000000</td>\n",
       "      <td>200.000000</td>\n",
       "      <td>200.000000</td>\n",
       "      <td>200.000000</td>\n",
       "      <td>200.000000</td>\n",
       "      <td>200.000000</td>\n",
       "      <td>200.000000</td>\n",
       "      <td>200.000000</td>\n",
       "      <td>200.000000</td>\n",
       "      <td>200.000000</td>\n",
       "      <td>...</td>\n",
       "      <td>200.000000</td>\n",
       "      <td>200.000000</td>\n",
       "      <td>200.000000</td>\n",
       "      <td>200.000000</td>\n",
       "      <td>200.000000</td>\n",
       "      <td>200.000000</td>\n",
       "      <td>200.000000</td>\n",
       "      <td>200.000000</td>\n",
       "      <td>200.000000</td>\n",
       "      <td>200.000000</td>\n",
       "    </tr>\n",
       "    <tr>\n",
       "      <th>mean</th>\n",
       "      <td>-0.002147</td>\n",
       "      <td>0.021439</td>\n",
       "      <td>-0.002860</td>\n",
       "      <td>0.000097</td>\n",
       "      <td>-0.002443</td>\n",
       "      <td>0.001354</td>\n",
       "      <td>-0.028870</td>\n",
       "      <td>-0.106005</td>\n",
       "      <td>-0.000009</td>\n",
       "      <td>-0.002556</td>\n",
       "      <td>...</td>\n",
       "      <td>0.123539</td>\n",
       "      <td>-0.007822</td>\n",
       "      <td>-0.000314</td>\n",
       "      <td>0.005534</td>\n",
       "      <td>0.134331</td>\n",
       "      <td>-0.034278</td>\n",
       "      <td>0.005845</td>\n",
       "      <td>0.032762</td>\n",
       "      <td>-0.113230</td>\n",
       "      <td>-0.017446</td>\n",
       "    </tr>\n",
       "    <tr>\n",
       "      <th>std</th>\n",
       "      <td>0.059965</td>\n",
       "      <td>0.060776</td>\n",
       "      <td>0.062855</td>\n",
       "      <td>0.056528</td>\n",
       "      <td>0.061745</td>\n",
       "      <td>0.062281</td>\n",
       "      <td>0.060284</td>\n",
       "      <td>1.025722</td>\n",
       "      <td>0.059414</td>\n",
       "      <td>0.064725</td>\n",
       "      <td>...</td>\n",
       "      <td>0.843847</td>\n",
       "      <td>0.060771</td>\n",
       "      <td>0.057309</td>\n",
       "      <td>0.061499</td>\n",
       "      <td>1.090931</td>\n",
       "      <td>0.053823</td>\n",
       "      <td>0.060450</td>\n",
       "      <td>0.944685</td>\n",
       "      <td>0.996734</td>\n",
       "      <td>0.062774</td>\n",
       "    </tr>\n",
       "    <tr>\n",
       "      <th>min</th>\n",
       "      <td>-0.194811</td>\n",
       "      <td>-0.172448</td>\n",
       "      <td>-0.202728</td>\n",
       "      <td>-0.207627</td>\n",
       "      <td>-0.166331</td>\n",
       "      <td>-0.165984</td>\n",
       "      <td>-0.191668</td>\n",
       "      <td>-2.422902</td>\n",
       "      <td>-0.190418</td>\n",
       "      <td>-0.198699</td>\n",
       "      <td>...</td>\n",
       "      <td>-1.951061</td>\n",
       "      <td>-0.158715</td>\n",
       "      <td>-0.170825</td>\n",
       "      <td>-0.204605</td>\n",
       "      <td>-2.655209</td>\n",
       "      <td>-0.196284</td>\n",
       "      <td>-0.182608</td>\n",
       "      <td>-2.818507</td>\n",
       "      <td>-2.609613</td>\n",
       "      <td>-0.152770</td>\n",
       "    </tr>\n",
       "    <tr>\n",
       "      <th>25%</th>\n",
       "      <td>-0.042814</td>\n",
       "      <td>-0.016475</td>\n",
       "      <td>-0.042616</td>\n",
       "      <td>-0.033395</td>\n",
       "      <td>-0.042307</td>\n",
       "      <td>-0.036236</td>\n",
       "      <td>-0.068027</td>\n",
       "      <td>-0.772111</td>\n",
       "      <td>-0.038125</td>\n",
       "      <td>-0.042317</td>\n",
       "      <td>...</td>\n",
       "      <td>-0.451157</td>\n",
       "      <td>-0.045705</td>\n",
       "      <td>-0.037458</td>\n",
       "      <td>-0.030097</td>\n",
       "      <td>-0.584208</td>\n",
       "      <td>-0.069153</td>\n",
       "      <td>-0.035548</td>\n",
       "      <td>-0.595762</td>\n",
       "      <td>-0.758656</td>\n",
       "      <td>-0.062623</td>\n",
       "    </tr>\n",
       "    <tr>\n",
       "      <th>50%</th>\n",
       "      <td>-0.008329</td>\n",
       "      <td>0.019571</td>\n",
       "      <td>0.000239</td>\n",
       "      <td>-0.000580</td>\n",
       "      <td>-0.001944</td>\n",
       "      <td>-0.000801</td>\n",
       "      <td>-0.031053</td>\n",
       "      <td>-0.205632</td>\n",
       "      <td>0.000843</td>\n",
       "      <td>-0.004540</td>\n",
       "      <td>...</td>\n",
       "      <td>0.093745</td>\n",
       "      <td>-0.002476</td>\n",
       "      <td>0.000962</td>\n",
       "      <td>0.003603</td>\n",
       "      <td>0.114103</td>\n",
       "      <td>-0.030867</td>\n",
       "      <td>0.009645</td>\n",
       "      <td>0.025727</td>\n",
       "      <td>-0.070014</td>\n",
       "      <td>-0.019532</td>\n",
       "    </tr>\n",
       "    <tr>\n",
       "      <th>75%</th>\n",
       "      <td>0.038109</td>\n",
       "      <td>0.058614</td>\n",
       "      <td>0.033847</td>\n",
       "      <td>0.034906</td>\n",
       "      <td>0.034846</td>\n",
       "      <td>0.044748</td>\n",
       "      <td>0.009291</td>\n",
       "      <td>0.503687</td>\n",
       "      <td>0.030832</td>\n",
       "      <td>0.035337</td>\n",
       "      <td>...</td>\n",
       "      <td>0.672906</td>\n",
       "      <td>0.033013</td>\n",
       "      <td>0.041996</td>\n",
       "      <td>0.049734</td>\n",
       "      <td>0.778008</td>\n",
       "      <td>-0.002259</td>\n",
       "      <td>0.046615</td>\n",
       "      <td>0.654622</td>\n",
       "      <td>0.509800</td>\n",
       "      <td>0.019516</td>\n",
       "    </tr>\n",
       "    <tr>\n",
       "      <th>max</th>\n",
       "      <td>0.168563</td>\n",
       "      <td>0.220225</td>\n",
       "      <td>0.173841</td>\n",
       "      <td>0.136426</td>\n",
       "      <td>0.188460</td>\n",
       "      <td>0.173267</td>\n",
       "      <td>0.187201</td>\n",
       "      <td>3.152943</td>\n",
       "      <td>0.172869</td>\n",
       "      <td>0.184558</td>\n",
       "      <td>...</td>\n",
       "      <td>3.496587</td>\n",
       "      <td>0.145896</td>\n",
       "      <td>0.167155</td>\n",
       "      <td>0.138562</td>\n",
       "      <td>3.466504</td>\n",
       "      <td>0.115722</td>\n",
       "      <td>0.170695</td>\n",
       "      <td>2.877629</td>\n",
       "      <td>2.966920</td>\n",
       "      <td>0.169585</td>\n",
       "    </tr>\n",
       "  </tbody>\n",
       "</table>\n",
       "<p>8 rows × 128 columns</p>\n",
       "</div>"
      ],
      "text/plain": [
       "              0           1           2           3           4           5    \\\n",
       "count  200.000000  200.000000  200.000000  200.000000  200.000000  200.000000   \n",
       "mean    -0.002147    0.021439   -0.002860    0.000097   -0.002443    0.001354   \n",
       "std      0.059965    0.060776    0.062855    0.056528    0.061745    0.062281   \n",
       "min     -0.194811   -0.172448   -0.202728   -0.207627   -0.166331   -0.165984   \n",
       "25%     -0.042814   -0.016475   -0.042616   -0.033395   -0.042307   -0.036236   \n",
       "50%     -0.008329    0.019571    0.000239   -0.000580   -0.001944   -0.000801   \n",
       "75%      0.038109    0.058614    0.033847    0.034906    0.034846    0.044748   \n",
       "max      0.168563    0.220225    0.173841    0.136426    0.188460    0.173267   \n",
       "\n",
       "              6           7           8           9    ...         118  \\\n",
       "count  200.000000  200.000000  200.000000  200.000000  ...  200.000000   \n",
       "mean    -0.028870   -0.106005   -0.000009   -0.002556  ...    0.123539   \n",
       "std      0.060284    1.025722    0.059414    0.064725  ...    0.843847   \n",
       "min     -0.191668   -2.422902   -0.190418   -0.198699  ...   -1.951061   \n",
       "25%     -0.068027   -0.772111   -0.038125   -0.042317  ...   -0.451157   \n",
       "50%     -0.031053   -0.205632    0.000843   -0.004540  ...    0.093745   \n",
       "75%      0.009291    0.503687    0.030832    0.035337  ...    0.672906   \n",
       "max      0.187201    3.152943    0.172869    0.184558  ...    3.496587   \n",
       "\n",
       "              119         120         121         122         123         124  \\\n",
       "count  200.000000  200.000000  200.000000  200.000000  200.000000  200.000000   \n",
       "mean    -0.007822   -0.000314    0.005534    0.134331   -0.034278    0.005845   \n",
       "std      0.060771    0.057309    0.061499    1.090931    0.053823    0.060450   \n",
       "min     -0.158715   -0.170825   -0.204605   -2.655209   -0.196284   -0.182608   \n",
       "25%     -0.045705   -0.037458   -0.030097   -0.584208   -0.069153   -0.035548   \n",
       "50%     -0.002476    0.000962    0.003603    0.114103   -0.030867    0.009645   \n",
       "75%      0.033013    0.041996    0.049734    0.778008   -0.002259    0.046615   \n",
       "max      0.145896    0.167155    0.138562    3.466504    0.115722    0.170695   \n",
       "\n",
       "              125         126         127  \n",
       "count  200.000000  200.000000  200.000000  \n",
       "mean     0.032762   -0.113230   -0.017446  \n",
       "std      0.944685    0.996734    0.062774  \n",
       "min     -2.818507   -2.609613   -0.152770  \n",
       "25%     -0.595762   -0.758656   -0.062623  \n",
       "50%      0.025727   -0.070014   -0.019532  \n",
       "75%      0.654622    0.509800    0.019516  \n",
       "max      2.877629    2.966920    0.169585  \n",
       "\n",
       "[8 rows x 128 columns]"
      ]
     },
     "execution_count": 17,
     "metadata": {},
     "output_type": "execute_result"
    }
   ],
   "source": [
    "import pandas as pd\n",
    "pd.DataFrame(a_numpy).describe()"
   ]
  },
  {
   "cell_type": "code",
   "execution_count": 12,
   "metadata": {},
   "outputs": [],
   "source": [
    "a_standardized = (a_numpy - np.mean(a_numpy, axis=0)) / np.std(a_numpy, axis=0)\n",
    "sampled_labels = sampled.to_numpy()\n",
    "sampled_labels_std = (sampled_labels - np.mean(sampled_labels, axis=0)) / np.std(sampled_labels, axis=0)"
   ]
  },
  {
   "cell_type": "code",
   "execution_count": 13,
   "metadata": {},
   "outputs": [
    {
     "data": {
      "text/plain": [
       "array([[-0.8783432 , -0.36301428, -0.42364496, ..., -1.6124104 ,\n",
       "         2.62764   ,  0.20657055],\n",
       "       [ 1.4555578 ,  0.02829104, -0.18315084, ..., -0.9332195 ,\n",
       "        -0.5778678 , -0.23443113],\n",
       "       [ 0.92661667,  0.31839862, -0.05108759, ...,  0.50661933,\n",
       "        -0.24488153,  0.8714819 ],\n",
       "       ...,\n",
       "       [-1.2245992 , -1.3407139 , -1.4852934 , ..., -1.43655   ,\n",
       "        -1.8816574 , -0.5130517 ],\n",
       "       [ 0.7858479 ,  0.31764075, -1.5013359 , ..., -0.8502611 ,\n",
       "        -1.8196818 ,  0.73558587],\n",
       "       [-0.51103425, -0.16385022,  0.01870809, ..., -0.38836557,\n",
       "         0.8596025 , -0.2701515 ]], dtype=float32)"
      ]
     },
     "execution_count": 13,
     "metadata": {},
     "output_type": "execute_result"
    }
   ],
   "source": [
    "a_standardized"
   ]
  },
  {
   "cell_type": "code",
   "execution_count": 16,
   "metadata": {},
   "outputs": [
    {
     "data": {
      "text/plain": [
       "7.4505807e-10"
      ]
     },
     "execution_count": 16,
     "metadata": {},
     "output_type": "execute_result"
    }
   ],
   "source": []
  },
  {
   "cell_type": "markdown",
   "metadata": {},
   "source": [
    "## A correlation"
   ]
  },
  {
   "cell_type": "code",
   "execution_count": 100,
   "metadata": {},
   "outputs": [
    {
     "data": {
      "text/plain": [
       "array([[ 0.9999998 , -0.00208968, -0.15243082, ...,  0.03890373,\n",
       "        -0.2004022 , -0.02822154],\n",
       "       [-0.00208968,  1.0000004 , -0.0209948 , ...,  0.11249083,\n",
       "        -0.00919768,  0.12057672],\n",
       "       [-0.15243082, -0.0209948 ,  1.0000001 , ..., -0.02832371,\n",
       "         0.13267334, -0.07199557],\n",
       "       ...,\n",
       "       [ 0.03890373,  0.11249083, -0.02832371, ...,  1.0000004 ,\n",
       "         0.02836598, -0.00708987],\n",
       "       [-0.2004022 , -0.00919768,  0.13267334, ...,  0.02836598,\n",
       "         1.0000001 , -0.17017786],\n",
       "       [-0.02822154,  0.12057672, -0.07199557, ..., -0.00708987,\n",
       "        -0.17017786,  1.0000004 ]], dtype=float32)"
      ]
     },
     "execution_count": 100,
     "metadata": {},
     "output_type": "execute_result"
    }
   ],
   "source": [
    "a_self_corr = a_standardized.T @ a_standardized / 200\n",
    "a_self_corr"
   ]
  },
  {
   "cell_type": "code",
   "execution_count": 101,
   "metadata": {},
   "outputs": [
    {
     "data": {
      "image/png": "[encoded data removed]",
      "text/plain": [
       "<Figure size 640x480 with 2 Axes>"
      ]
     },
     "metadata": {},
     "output_type": "display_data"
    }
   ],
   "source": [
    "plt.imshow(np.abs(a_self_corr), cmap='hot', interpolation='nearest')\n",
    "plt.colorbar()\n",
    "plt.show()"
   ]
  },
  {
   "cell_type": "markdown",
   "metadata": {},
   "source": [
    "## Sampled Images"
   ]
  },
  {
   "cell_type": "code",
   "execution_count": 95,
   "metadata": {},
   "outputs": [
    {
     "name": "stdout",
     "output_type": "stream",
     "text": [
      "tensor([ 0.,  0., -1.,  0.,  0.,  0.,  0.,  0.,  0.,  0.,  0.,  0.,  0.,  0.,\n",
      "         0.,  0.,  0.,  0.,  0.,  0.,  0.,  0.,  0.,  0.,  0.,  0.,  0.,  0.,\n",
      "         0.,  0.,  0.,  0.,  0.,  0.,  0.,  0.,  0.,  0.,  0.,  0.,  0.,  0.,\n",
      "         0.,  0.,  0.,  0.,  0.,  0.,  0.,  0.,  0.,  0.,  0.,  0.,  0.,  0.,\n",
      "         0.,  0.,  0.,  0.,  0.,  0.,  0.,  0.,  0.,  0.,  0.,  0.,  0.,  0.,\n",
      "         0.,  0.,  0.,  0.,  0.,  0.,  0.,  0.,  0.,  0.,  0.,  0.,  0.,  0.,\n",
      "         0.,  0.,  0.,  0.,  0.,  0.,  0.,  0.,  0.,  0.,  0.,  0.,  0.,  0.,\n",
      "         0.,  0.,  0.,  0.,  0.,  0.,  0.,  0.,  0.,  0.,  0.,  0.,  0.,  0.,\n",
      "         0.,  0.,  0.,  0.,  0.,  0.,  0.,  0.,  0.,  0.,  0.,  0.,  0.,  0.,\n",
      "         0.,  0.])\n"
     ]
    }
   ],
   "source": []
  },
  {
   "cell_type": "code",
   "execution_count": 93,
   "metadata": {},
   "outputs": [],
   "source": [
    "random_encoded = torch.normal(0, 0.3, (128,))"
   ]
  },
  {
   "cell_type": "code",
   "execution_count": 97,
   "metadata": {},
   "outputs": [
    {
     "name": "stdout",
     "output_type": "stream",
     "text": [
      "tensor([ 0.,  0., -1., -1.,  0.,  0.,  0.,  0.,  0.,  0.,  0.,  0.,  0.,  0.,\n",
      "         0.,  0.,  0.,  0.,  0.,  0.,  0.,  0.,  0.,  0.,  0.,  0.,  0.,  0.,\n",
      "         0.,  0.,  0.,  0.,  0.,  0.,  0.,  0.,  0.,  0.,  0.,  0.,  0.,  0.,\n",
      "         0.,  0.,  0., -1.,  0.,  0.,  0.,  0.,  0.,  0.,  0.,  0., -1.,  0.,\n",
      "         0.,  0.,  0.,  0.,  0.,  0.,  0.,  0.,  0.,  0.,  0.,  0.,  0.,  0.,\n",
      "         0.,  0.,  0.,  0.,  0.,  0.,  0.,  0.,  0.,  0.,  0.,  0.,  0.,  0.,\n",
      "         0.,  0.,  0.,  0.,  0.,  0.,  0.,  0.,  0.,  0.,  0.,  0.,  0.,  0.,\n",
      "         0.,  0.,  0.,  0.,  0.,  0.,  0.,  0.,  0.,  0.,  0.,  0.,  0.,  0.,\n",
      "         0.,  0.,  0.,  0.,  0.,  0.,  0.,  0., -1.,  0.,  0.,  0.,  0.,  0.,\n",
      "         0.,  0.])\n"
     ]
    }
   ],
   "source": [
    "random_encoded = torch.zeros(128)\n",
    "random_encoded[2] = -1\n",
    "random_encoded[54] = -1\n",
    "random_encoded[3] = -1\n",
    "random_encoded[45] = -1\n",
    "random_encoded[120] = -1\n",
    "print(random_encoded)"
   ]
  },
  {
   "cell_type": "code",
   "execution_count": 98,
   "metadata": {},
   "outputs": [
    {
     "data": {
      "image/png": "[encoded data removed]",
      "text/plain": [
       "<Figure size 640x480 with 1 Axes>"
      ]
     },
     "metadata": {},
     "output_type": "display_data"
    }
   ],
   "source": [
    "\n",
    "with torch.no_grad():\n",
    "    result = model.decode(random_encoded)\n",
    "    plt.imshow(  result[0].permute(1, 2, 0)  )"
   ]
  },
  {
   "cell_type": "markdown",
   "metadata": {},
   "source": [
    "## Correlation with the existing code"
   ]
  },
  {
   "cell_type": "code",
   "execution_count": null,
   "metadata": {},
   "outputs": [],
   "source": []
  },
  {
   "cell_type": "code",
   "execution_count": 19,
   "metadata": {},
   "outputs": [
    {
     "data": {
      "text/plain": [
       "array([[ 33.02025878, -21.32122035, -24.63514095, ..., -25.71867131,\n",
       "         10.52992349, -18.73395349],\n",
       "       [  4.63344579,   2.29441024, -20.56765944, ...,  -4.33680743,\n",
       "          1.44163009,  20.68806089],\n",
       "       [-27.67962109,  28.12374509, -17.06916842, ...,  17.98537824,\n",
       "        -12.45006198, -28.76879447],\n",
       "       ...,\n",
       "       [ 47.62599398,  -4.41895099,   0.37941887, ..., -26.70608589,\n",
       "         15.65873663,  11.19223634],\n",
       "       [  0.89341417,  15.88484911, -29.63809715, ...,   3.21234446,\n",
       "         -7.8221613 ,   0.96136286],\n",
       "       [ 33.51236656,  17.61937731,  -1.97906827, ...,   5.32769497,\n",
       "          5.92926263,  -9.60471962]])"
      ]
     },
     "execution_count": 19,
     "metadata": {},
     "output_type": "execute_result"
    }
   ],
   "source": [
    "corr = a_standardized.T @ sampled_labels_std\n",
    "corr"
   ]
  },
  {
   "cell_type": "code",
   "execution_count": 20,
   "metadata": {},
   "outputs": [
    {
     "data": {
      "text/plain": [
       "13.584641580016898"
      ]
     },
     "execution_count": 20,
     "metadata": {},
     "output_type": "execute_result"
    }
   ],
   "source": [
    "np.mean(np.abs(corr))"
   ]
  },
  {
   "cell_type": "code",
   "execution_count": 21,
   "metadata": {},
   "outputs": [
    {
     "data": {
      "image/png": "[encoded data removed]",
      "text/plain": [
       "<Figure size 640x480 with 2 Axes>"
      ]
     },
     "metadata": {},
     "output_type": "display_data"
    }
   ],
   "source": [
    "plt.imshow(corr, cmap='hot', interpolation='nearest')\n",
    "plt.colorbar()\n",
    "plt.show()"
   ]
  },
  {
   "cell_type": "code",
   "execution_count": null,
   "metadata": {},
   "outputs": [
    {
     "data": {
      "text/plain": [
       "array([[67,  5],\n",
       "       [87, 35]])"
      ]
     },
     "execution_count": 70,
     "metadata": {},
     "output_type": "execute_result"
    }
   ],
   "source": [
    "np.argwhere(corr > 65)"
   ]
  },
  {
   "attachments": {},
   "cell_type": "markdown",
   "metadata": {},
   "source": []
  },
  {
   "cell_type": "code",
   "execution_count": null,
   "metadata": {},
   "outputs": [],
   "source": [
    "import pandas as pd \n",
    "import numpy as np\n",
    "from matplotlib import pyplot as plt"
   ]
  },
  {
   "cell_type": "code",
   "execution_count": null,
   "metadata": {},
   "outputs": [
    {
     "data": {
      "image/png": "[encoded data removed]",
      "text/plain": [
       "<Figure size 500x500 with 1 Axes>"
      ]
     },
     "metadata": {},
     "output_type": "display_data"
    }
   ],
   "source": [
    "def visualize_latent(latent: list, attr: pd.DataFrame):\n",
    "    '''\n",
    "    given a list of latent vectors and the attribute file, \n",
    "    visualize the latent vectors with respect to attributes\n",
    "\n",
    "    Parameters\n",
    "        latent: list of latent vectors\n",
    "        attr: attribute file\n",
    "\n",
    "    Returns\n",
    "        None\n",
    "    '''\n",
    "    # generate dummy data\n",
    "    latent = a.detach().cpu().numpy()\n",
    "     \n",
    "    # visualize the latent vectors with respect to attributes\n",
    "    # draw scatter plots\n",
    "    plt.figure(figsize=(5, 5))\n",
    "    plt.scatter(latent[:, 67], sampled_labels[:, 5])\n",
    "    plt.show()\n",
    "\n",
    "    pass\n",
    "\n",
    "visualize_latent([], sampled)\n"
   ]
  },
  {
   "cell_type": "code",
   "execution_count": null,
   "metadata": {},
   "outputs": [
    {
     "data": {
      "text/plain": [
       "{'5_o_Clock_Shadow': array([-1,  1]),\n",
       " 'Arched_Eyebrows': array([-1,  1]),\n",
       " 'Attractive': array([ 1, -1]),\n",
       " 'Bags_Under_Eyes': array([-1,  1]),\n",
       " 'Bald': array([-1,  1]),\n",
       " 'Bangs': array([ 1, -1]),\n",
       " 'Big_Lips': array([-1,  1]),\n",
       " 'Big_Nose': array([-1,  1]),\n",
       " 'Black_Hair': array([ 1, -1]),\n",
       " 'Blond_Hair': array([-1,  1]),\n",
       " 'Blurry': array([-1,  1]),\n",
       " 'Brown_Hair': array([-1,  1]),\n",
       " 'Bushy_Eyebrows': array([-1,  1]),\n",
       " 'Chubby': array([-1,  1]),\n",
       " 'Double_Chin': array([-1,  1]),\n",
       " 'Eyeglasses': array([-1,  1]),\n",
       " 'Goatee': array([-1,  1]),\n",
       " 'Gray_Hair': array([-1,  1]),\n",
       " 'Heavy_Makeup': array([ 1, -1]),\n",
       " 'High_Cheekbones': array([-1,  1]),\n",
       " 'Male': array([-1,  1]),\n",
       " 'Mouth_Slightly_Open': array([-1,  1]),\n",
       " 'Mustache': array([-1,  1]),\n",
       " 'Narrow_Eyes': array([-1,  1]),\n",
       " 'No_Beard': array([ 1, -1]),\n",
       " 'Oval_Face': array([ 1, -1]),\n",
       " 'Pale_Skin': array([ 1, -1]),\n",
       " 'Pointy_Nose': array([-1,  1]),\n",
       " 'Receding_Hairline': array([-1,  1]),\n",
       " 'Rosy_Cheeks': array([-1,  1]),\n",
       " 'Sideburns': array([-1,  1]),\n",
       " 'Smiling': array([ 1, -1]),\n",
       " 'Straight_Hair': array([-1,  1]),\n",
       " 'Wavy_Hair': array([-1,  1]),\n",
       " 'Wearing_Earrings': array([ 1, -1]),\n",
       " 'Wearing_Hat': array([-1,  1]),\n",
       " 'Wearing_Lipstick': array([ 1, -1]),\n",
       " 'Wearing_Necklace': array([-1,  1]),\n",
       " 'Wearing_Necktie': array([-1,  1]),\n",
       " 'Young': array([ 1, -1])}"
      ]
     },
     "execution_count": 62,
     "metadata": {},
     "output_type": "execute_result"
    }
   ],
   "source": [
    "# get unique values of each attribute\n",
    "unique_values = {}\n",
    "for col in sampled.columns:\n",
    "    unique_values[col] = sampled[col].unique()\n",
    "unique_values"
   ]
  },
  {
   "cell_type": "code",
   "execution_count": null,
   "metadata": {},
   "outputs": [],
   "source": []
  }
 ],
 "metadata": {
  "kernelspec": {
   "display_name": "Python 3.10.8 64-bit",
   "language": "python",
   "name": "python3"
  },
  "language_info": {
   "codemirror_mode": {
    "name": "ipython",
    "version": 3
   },
   "file_extension": ".py",
   "mimetype": "text/x-python",
   "name": "python",
   "nbconvert_exporter": "python",
   "pygments_lexer": "ipython3",
   "version": "3.10.8"
  },
  "orig_nbformat": 4,
  "vscode": {
   "interpreter": {
    "hash": "e7370f93d1d0cde622a1f8e1c04877d8463912d04d973331ad4851f04de6915a"
   }
  }
 },
 "nbformat": 4,
 "nbformat_minor": 2
}
